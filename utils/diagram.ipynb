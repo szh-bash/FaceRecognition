{
 "cells": [
  {
   "cell_type": "code",
   "execution_count": 1,
   "metadata": {},
   "outputs": [],
   "source": [
    "import re\n",
    "import numpy as np\n",
    "import matplotlib.pyplot as plt"
   ]
  },
  {
   "cell_type": "code",
   "execution_count": 2,
   "metadata": {},
   "outputs": [],
   "source": [
    "def smooth(seq):\n",
    "    m = 10\n",
    "    n = len(seq)\n",
    "    res = []\n",
    "    for i in range(n-m):\n",
    "        if i == 120000:\n",
    "            print(seq[i])\n",
    "        sum_ = 0\n",
    "        for j in range(m):\n",
    "            sum_ += seq[i+j]\n",
    "        res.append(sum_/m)\n",
    "    return res"
   ]
  },
  {
   "cell_type": "code",
   "execution_count": 3,
   "metadata": {},
   "outputs": [],
   "source": [
    "# log_path = '/data/shenzhonghai/FaceClustering/logs/train_log_Vgg16_bs-128_lr-4|16k|19k.log'\n",
    "# log_path = '/data/shenzhonghai/FaceClustering/logs/train_log_Vgg16_af_128_3.log'\n",
    "# log_path = '/data/shenzhonghai/FaceClustering/logs/train_log_Vgg16_af_128_3|20k.log'\n",
    "# log_path = '/data/shenzhonghai/FaceClustering/logs/train_log_Vgg16_lfw_sm_128_3.log'\n",
    "# log_path = '/data/shenzhonghai/FaceClustering/logs/train_log_Vgg16_wf_sm_128_2.log'\n",
    "# log_path = '/data/shenzhonghai/FaceClustering/logs/train_log_Vgg16_lfw_af-1_256_2.log'\n",
    "# log_path = '/data/shenzhonghai/FaceClustering/logs/train_log_Vgg16_lfw_af-2_flip_256_2.log'\n",
    "# log_path = '/data/shenzhonghai/FaceClustering/logs/train_log_Vgg16_wf_af-1_256_2.log'\n",
    "# log_path = '/data/shenzhonghai/FaceClustering/logs/train_log_Vgg16_wf_af-1_256_lr2e3_2|40k.log'\n",
    "# log_path = '/data/shenzhonghai/FaceClustering/logs/train_log_Vgg16_wf_af-1_256_lr1e3_2|60k.log'\n",
    "# log_path = '/data/shenzhonghai/FaceClustering/logs/train_log_Vgg16_wf_af05_64_128_lr1e3_2|60k.log'\n",
    "# log_path = '/data/shenzhonghai/FaceClustering/logs/train_log_nVgg16_base_aug_DP05_2|90k.log'\n",
    "# log_path = '/data/shenzhonghai/FaceClustering/logs/train_log_Vgg16_224_mtwfc_base_flip_2|200k.log'\n",
    "# log_path = '/data/shenzhonghai/FaceClustering/logs/train_log_Vgg16_224_mtwfc_base_flip_2|200k.log'\n",
    "# log_path = '/data/shenzhonghai/FaceClustering/logs/train_log_Vgg16_224_mtwfc_base_flip_2|200k.log'\n",
    "# log_path = '/data/shenzhonghai/FaceClustering/logs/train_log_Vgg16-T_base_2|200k.log'\n",
    "# log_path = '/data/shenzhonghai/FaceClustering/logs/train_log_Vgg16_256D_wf_af-5e-2.log'\n",
    "# log_path = '/data/shenzhonghai/FaceClustering/logs/train_log_Vgg16_+256_af-5e-2.log'\n",
    "log_path = '/data/shenzhonghai/FaceClustering/logs/train_log_resnet50_demo.log'"
   ]
  },
  {
   "cell_type": "code",
   "execution_count": 19,
   "metadata": {},
   "outputs": [],
   "source": [
    "def get_data():\n",
    "    acc = []\n",
    "    loss = []\n",
    "    with open(log_path, 'r') as f:\n",
    "        for st in f.readlines():\n",
    "            if re.search('iters', st) is None:\n",
    "                continue\n",
    "            loc = re.search(r'loss: [\\d]*\\.[\\d]*', st).span()\n",
    "            loss.append(float(st[loc[0]+6:loc[1]]))\n",
    "            loc = re.search(r'acc: [\\d]*\\.[\\d]', st).span()\n",
    "            acc.append(float(st[loc[0]+5:loc[1]]))\n",
    "    loss = smooth(loss)\n",
    "    acc = smooth(acc)\n",
    "    print(log_path)\n",
    "    return acc, loss"
   ]
  },
  {
   "cell_type": "code",
   "execution_count": 38,
   "metadata": {},
   "outputs": [
    {
     "name": "stdout",
     "output_type": "stream",
     "text": [
      "/data/shenzhonghai/FaceClustering/logs/train_log_resnet50_demo.log\n"
     ]
    },
    {
     "data": {
      "image/png": "[encoded data removed]",
      "text/plain": [
       "<Figure size 432x288 with 2 Axes>"
      ]
     },
     "metadata": {
      "needs_background": "light"
     },
     "output_type": "display_data"
    }
   ],
   "source": [
    "acc, loss = get_data()\n",
    "iterations = len(acc)\n",
    "x = np.linspace(0, iterations, iterations)\n",
    "fig, ax1 = plt.subplots()\n",
    "ax2 = ax1.twinx()\n",
    "ax1.plot(x, loss, label='loss', color='r')\n",
    "ax2.plot(x, acc, label='train_acc', color='b')\n",
    "ax1.set_xlim(0, iterations)\n",
    "ax1.set_ylim(0., )\n",
    "ax2.set_ylim(0., 100.)\n",
    "ax1.set_ylabel('loss')\n",
    "ax2.set_ylabel('train_acc')\n",
    "plt.xlabel('iterations')\n",
    "plt.title(log_path.split('/')[-1])\n",
    "fig.legend(bbox_to_anchor=(0.6, 1.), bbox_transform=ax1.transAxes)\n",
    "\n",
    "plt.show()"
   ]
  },
  {
   "cell_type": "code",
   "execution_count": null,
   "metadata": {},
   "outputs": [],
   "source": []
  }
 ],
 "metadata": {
  "kernelspec": {
   "display_name": "Python 3",
   "language": "python",
   "name": "python3"
  },
  "language_info": {
   "codemirror_mode": {
    "name": "ipython",
    "version": 3
   },
   "file_extension": ".py",
   "mimetype": "text/x-python",
   "name": "python",
   "nbconvert_exporter": "python",
   "pygments_lexer": "ipython3",
   "version": "3.6.10"
  }
 },
 "nbformat": 4,
 "nbformat_minor": 4
}